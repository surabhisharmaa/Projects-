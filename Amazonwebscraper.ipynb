{
 "cells": [
  {
   "cell_type": "code",
   "execution_count": 1,
   "id": "38aac699-8299-4005-b3ce-73c3d5fe7a45",
   "metadata": {},
   "outputs": [],
   "source": [
    "#import libraries\n",
    "from bs4 import BeautifulSoup\n",
    "import requests\n",
    "import smtplib #for sending email\n",
    "import time\n",
    "import datetime"
   ]
  },
  {
   "cell_type": "code",
   "execution_count": 48,
   "id": "925ed7b6-6880-481d-845c-179215582568",
   "metadata": {},
   "outputs": [
    {
     "name": "stdout",
     "output_type": "stream",
     "text": [
      "\n",
      "             TWISTED HATE\n",
      "            \n",
      "\n",
      "             Paperback – 5 May 2022\n",
      "            \n"
     ]
    }
   ],
   "source": [
    "#connect to website\n",
    "URL = 'https://www.amazon.in/TWISTED-HATE-Ana-Huang/dp/0349434336/ref=sr_1_2?dib=eyJ2IjoiMSJ9.r6NZymjYrRmMjErvSaMb-8EDCP7eBqtjdpjWOMvw6bq7GZOEitDeH5Czw6sE7jtqQCq3o5azj-ZSa0062RFPQBFUJZKeLYlrt4z5hCfFK0Ju8HJpU9qhPycF9V8FyOuvrCV3983zekXuffPwIbUH_qM4ZRosw33YSDbYFczMe9D3b1KHtSqMoc9uMiIqkKJw7n4xVoUJjWytEADn_ARRS5UwjiKyksgWRVHMb08robY.bb7Z1mAD02-NQNRMVsXQsUfYmrU0BXCOIzsFu0s-Oso&dib_tag=se&keywords=anna+huang&qid=1741072131&sr=8-2'\n",
    "\n",
    "headers = {\"User-Agent\": \"Mozilla/5.0 (Windows NT 10.0; Win64; x64) AppleWebKit/537.36 (KHTML, like Gecko) Chrome/133.0.0.0 Safari/537.36\", \n",
    "    \"X-Amzn-Trace-Id\": \"Root=1-67c6920e-35c3e46d0c0dfe177530d57e\",  \"Accept-Encoding\": \"gzip, deflate, br, zstd\",\"Accept\": \"text/html,application/xhtml+xml,application/xml;q=0.9,image/avif,image/webp,image/apng,*/*;q=0.8,application/signed-exchange;v=b3;q=0.7\",\"DNT\":\"1\",\"Connection\":\"close\", \"Upgrade-Insecure-Requests\":\"1\"}\n",
    "\n",
    "page = requests.get(URL, headers=headers)\n",
    "\n",
    "soup1 = BeautifulSoup(page.content, \"html.parser\")\n",
    "\n",
    "soup2 = BeautifulSoup(soup1.prettify(), \"html.parser\")\n",
    "\n",
    "#print(soup2)\n",
    "\n",
    "title = soup2.find(id='productTitle').get_text()\n",
    "\n",
    "subtitle = soup2.find(id='productSubtitle').get_text()\n",
    "\n",
    "\n",
    "print(title)\n",
    "print(subtitle)\n",
    "\n",
    "#print(soup1.prettify())\n",
    "#pull out the price\n",
    "\n"
   ]
  },
  {
   "cell_type": "code",
   "execution_count": 49,
   "id": "4eec3ab4-c191-4098-8a27-aad5c797f798",
   "metadata": {},
   "outputs": [
    {
     "name": "stdout",
     "output_type": "stream",
     "text": [
      "TWISTED HATE\n",
      "Paperback – 5 May 2022\n"
     ]
    }
   ],
   "source": [
    "# Clean up the data a little bit\n",
    "\n",
    "subtitle = subtitle.strip()\n",
    "title = title.strip()\n",
    "\n",
    "print(title)\n",
    "print(subtitle)"
   ]
  },
  {
   "cell_type": "code",
   "execution_count": 50,
   "id": "fe0e8566-cbb6-4ebe-8e74-61580a24341a",
   "metadata": {},
   "outputs": [
    {
     "name": "stdout",
     "output_type": "stream",
     "text": [
      "365\n"
     ]
    }
   ],
   "source": [
    "#price = soup2.find(class='a-price-whole').get_text()\n",
    "#print(price)\n",
    "#if price else \"Price not found\"\n",
    "price = soup2.find(\"span\", class_=\"a-price-whole\")\n",
    "price = price.get_text().strip() \n",
    "print(price)"
   ]
  },
  {
   "cell_type": "code",
   "execution_count": 51,
   "id": "ce26e2b9-71dc-43eb-9e40-306a15d5f49b",
   "metadata": {},
   "outputs": [
    {
     "name": "stdout",
     "output_type": "stream",
     "text": [
      "2025-03-04\n"
     ]
    }
   ],
   "source": [
    "# Create a Timestamp for your output to track when data was collected\n",
    "\n",
    "import datetime\n",
    "\n",
    "today = datetime.date.today()\n",
    "\n",
    "print(today)"
   ]
  },
  {
   "cell_type": "code",
   "execution_count": 52,
   "id": "1eecae67-0edd-4de0-a75f-421c4891af56",
   "metadata": {},
   "outputs": [],
   "source": [
    "# Create CSV and write headers and data into the file\n",
    "\n",
    "import csv \n",
    "\n",
    "header = ['Title','Subtitle', 'Price', 'Date'] #list\n",
    "data = [title,subtitle, price, today]\n",
    "\n",
    "# w means write \\\\ UTF  \n",
    "with open('AmazonWebScraperDataset.csv', 'w', newline='', encoding='UTF8') as f:\n",
    "    writer = csv.writer(f)\n",
    "    writer.writerow(header)\n",
    "    writer.writerow(data)"
   ]
  },
  {
   "cell_type": "code",
   "execution_count": 1,
   "id": "7390ed7c-add3-4a13-9db7-48efaa0a83ef",
   "metadata": {},
   "outputs": [
    {
     "name": "stdout",
     "output_type": "stream",
     "text": [
      "          Title                Subtitle  Price        Date\n",
      "0  TWISTED HATE  Paperback – 5 May 2022    365  2025-03-04\n",
      "1  TWISTED HATE  Paperback – 5 May 2022    365  2025-03-04\n"
     ]
    }
   ],
   "source": [
    "\n",
    "import pandas as pd\n",
    "\n",
    "df = pd.read_csv(r'C:\\Users\\surab\\Web scraping project using python\\AmazonWebScraperDataset.csv')\n",
    "\n",
    "print(df)"
   ]
  },
  {
   "cell_type": "code",
   "execution_count": 55,
   "id": "b0bf47d3-a5fe-42e4-8c13-4e0d823e5ca4",
   "metadata": {},
   "outputs": [],
   "source": [
    "#Now we are appending data to the csv\n",
    "\n",
    "with open('AmazonWebScraperDataset.csv', 'a+', newline='', encoding='UTF8') as f:\n",
    "    writer = csv.writer(f)\n",
    "    writer.writerow(data)"
   ]
  },
  {
   "cell_type": "code",
   "execution_count": 2,
   "id": "4c191f18-7018-4f93-9a88-b3c0ff8379e0",
   "metadata": {},
   "outputs": [],
   "source": [
    "#make a function and take scraping\n",
    "def check_price():\n",
    "    URL = 'https://www.amazon.in/TWISTED-HATE-Ana-Huang/dp/0349434336/ref=sr_1_2?dib=eyJ2IjoiMSJ9.r6NZymjYrRmMjErvSaMb-8EDCP7eBqtjdpjWOMvw6bq7GZOEitDeH5Czw6sE7jtqQCq3o5azj-ZSa0062RFPQBFUJZKeLYlrt4z5hCfFK0Ju8HJpU9qhPycF9V8FyOuvrCV3983zekXuffPwIbUH_qM4ZRosw33YSDbYFczMe9D3b1KHtSqMoc9uMiIqkKJw7n4xVoUJjWytEADn_ARRS5UwjiKyksgWRVHMb08robY.bb7Z1mAD02-NQNRMVsXQsUfYmrU0BXCOIzsFu0s-Oso&dib_tag=se&keywords=anna+huang&qid=1741072131&sr=8-2'\n",
    "\n",
    "    headers = {\"User-Agent\": \"Mozilla/5.0 (Windows NT 10.0; Win64; x64) AppleWebKit/537.36 (KHTML, like Gecko) Chrome/133.0.0.0 Safari/537.36\", \n",
    "    \"X-Amzn-Trace-Id\": \"Root=1-67c6920e-35c3e46d0c0dfe177530d57e\",  \"Accept-Encoding\": \"gzip, deflate, br, zstd\",\"Accept\": \"text/html,application/xhtml+xml,application/xml;q=0.9,image/avif,image/webp,image/apng,*/*;q=0.8,application/signed-exchange;v=b3;q=0.7\",\"DNT\":\"1\",\"Connection\":\"close\", \"Upgrade-Insecure-Requests\":\"1\"}\n",
    "\n",
    "    page = requests.get(URL, headers=headers)\n",
    "\n",
    "    soup1 = BeautifulSoup(page.content, \"html.parser\")\n",
    "\n",
    "    soup2 = BeautifulSoup(soup1.prettify(), \"html.parser\")\n",
    "\n",
    "    title = soup2.find(id='productTitle').get_text()\n",
    "\n",
    "    subtitle = soup2.find(id='productSubtitle').get_text()\n",
    "\n",
    "    price = soup2.find(\"span\", class_=\"a-price-whole\")\n",
    "    price = price.get_text().strip()\n",
    "\n",
    "    subtitle = subtitle.strip()\n",
    "    title = title.strip()\n",
    "\n",
    "    import datetime\n",
    "\n",
    "    today = datetime.date.today()\n",
    "    timestamp = datetime.datetime.now().strftime(\"%Y-%m-%d %H:%M:%S\")\n",
    "    \n",
    "    import csv \n",
    "\n",
    "    header = ['Title','subtitle', 'Price', 'Date','TimeStamp']\n",
    "    data = [title,subtitle, price, today,timestamp]\n",
    "\n",
    "    with open('AmazonWebScraperDataset.csv', 'a+', newline='', encoding='UTF8') as f:\n",
    "        writer = csv.writer(f)\n",
    "        \n",
    "        writer.writerow(data)\n"
   ]
  },
  {
   "cell_type": "code",
   "execution_count": 3,
   "id": "30d7c2f1-4b92-4761-b42c-a76e6c569fa9",
   "metadata": {},
   "outputs": [],
   "source": [
    "\n",
    "# Runs check_price after a set time and inputs data into your CSV\n",
    "x=0\n",
    "while(x<=10):\n",
    "    check_price()\n",
    "    time.sleep(5)\n",
    "    x=x+1"
   ]
  },
  {
   "cell_type": "code",
   "execution_count": 4,
   "id": "3e1ab39d-df8e-4935-97e1-f45c9e615a7f",
   "metadata": {},
   "outputs": [
    {
     "name": "stdout",
     "output_type": "stream",
     "text": [
      "           Title                Subtitle  Price        Date  \\\n",
      "0   TWISTED HATE  Paperback – 5 May 2022    365  04-03-2025   \n",
      "1   TWISTED HATE  Paperback – 5 May 2022    365  04-03-2025   \n",
      "2   TWISTED HATE  Paperback – 5 May 2022    347  05-03-2025   \n",
      "3   TWISTED HATE  Paperback – 5 May 2022    347  05-03-2025   \n",
      "4   TWISTED HATE  Paperback – 5 May 2022    347  05-03-2025   \n",
      "..           ...                     ...    ...         ...   \n",
      "58  TWISTED HATE  Paperback – 5 May 2022    347  2025-03-06   \n",
      "59  TWISTED HATE  Paperback – 5 May 2022    347  2025-03-06   \n",
      "60  TWISTED HATE  Paperback – 5 May 2022    347  2025-03-06   \n",
      "61  TWISTED HATE  Paperback – 5 May 2022    347  2025-03-06   \n",
      "62  TWISTED HATE  Paperback – 5 May 2022    347  2025-03-06   \n",
      "\n",
      "              TimeStamp  \n",
      "0                   NaN  \n",
      "1                   NaN  \n",
      "2                   NaN  \n",
      "3                   NaN  \n",
      "4                   NaN  \n",
      "..                  ...  \n",
      "58  2025-03-06 11:06:11  \n",
      "59  2025-03-06 11:06:20  \n",
      "60  2025-03-06 11:06:29  \n",
      "61  2025-03-06 11:06:38  \n",
      "62  2025-03-06 11:06:47  \n",
      "\n",
      "[63 rows x 5 columns]\n"
     ]
    }
   ],
   "source": [
    "import pandas as pd\n",
    "\n",
    "df = pd.read_csv(r'C:\\Users\\surab\\Web scraping project using python\\AmazonWebScraperDataset.csv')\n",
    "\n",
    "print(df)\n"
   ]
  },
  {
   "cell_type": "code",
   "execution_count": null,
   "id": "a6b78f18-cf10-44e7-be13-d5d4d63f0ae2",
   "metadata": {},
   "outputs": [],
   "source": []
  }
 ],
 "metadata": {
  "kernelspec": {
   "display_name": "Python 3 (ipykernel)",
   "language": "python",
   "name": "python3"
  },
  "language_info": {
   "codemirror_mode": {
    "name": "ipython",
    "version": 3
   },
   "file_extension": ".py",
   "mimetype": "text/x-python",
   "name": "python",
   "nbconvert_exporter": "python",
   "pygments_lexer": "ipython3",
   "version": "3.12.8"
  }
 },
 "nbformat": 4,
 "nbformat_minor": 5
}
